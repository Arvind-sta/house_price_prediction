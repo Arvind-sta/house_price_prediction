{
 "cells": [
  {
   "cell_type": "code",
   "execution_count": 1,
   "id": "65169e81-84d9-4d85-ae64-5d695b5c6519",
   "metadata": {},
   "outputs": [],
   "source": [
    "import numpy as np\n",
    "import pandas as pd \n",
    "import seaborn as sns \n",
    "import matplotlib.pyplot as plt \n",
    "import warnings\n",
    "warnings.simplefilter(\"ignore\")"
   ]
  },
  {
   "cell_type": "code",
   "execution_count": 2,
   "id": "6a08cabf-1aeb-4a22-8850-d96b34c1d79e",
   "metadata": {},
   "outputs": [
    {
     "data": {
      "text/html": [
       "<div>\n",
       "<style scoped>\n",
       "    .dataframe tbody tr th:only-of-type {\n",
       "        vertical-align: middle;\n",
       "    }\n",
       "\n",
       "    .dataframe tbody tr th {\n",
       "        vertical-align: top;\n",
       "    }\n",
       "\n",
       "    .dataframe thead th {\n",
       "        text-align: right;\n",
       "    }\n",
       "</style>\n",
       "<table border=\"1\" class=\"dataframe\">\n",
       "  <thead>\n",
       "    <tr style=\"text-align: right;\">\n",
       "      <th></th>\n",
       "      <th>Id</th>\n",
       "      <th>Area</th>\n",
       "      <th>Bedrooms</th>\n",
       "      <th>Bathrooms</th>\n",
       "      <th>Floors</th>\n",
       "      <th>YearBuilt</th>\n",
       "      <th>Location</th>\n",
       "      <th>Condition</th>\n",
       "      <th>Garage</th>\n",
       "      <th>Price</th>\n",
       "    </tr>\n",
       "  </thead>\n",
       "  <tbody>\n",
       "    <tr>\n",
       "      <th>0</th>\n",
       "      <td>1</td>\n",
       "      <td>1360</td>\n",
       "      <td>5</td>\n",
       "      <td>4</td>\n",
       "      <td>3</td>\n",
       "      <td>1970</td>\n",
       "      <td>Downtown</td>\n",
       "      <td>Excellent</td>\n",
       "      <td>No</td>\n",
       "      <td>149919</td>\n",
       "    </tr>\n",
       "    <tr>\n",
       "      <th>1</th>\n",
       "      <td>2</td>\n",
       "      <td>4272</td>\n",
       "      <td>5</td>\n",
       "      <td>4</td>\n",
       "      <td>3</td>\n",
       "      <td>1958</td>\n",
       "      <td>Downtown</td>\n",
       "      <td>Excellent</td>\n",
       "      <td>No</td>\n",
       "      <td>424998</td>\n",
       "    </tr>\n",
       "    <tr>\n",
       "      <th>2</th>\n",
       "      <td>3</td>\n",
       "      <td>3592</td>\n",
       "      <td>2</td>\n",
       "      <td>2</td>\n",
       "      <td>3</td>\n",
       "      <td>1938</td>\n",
       "      <td>Downtown</td>\n",
       "      <td>Good</td>\n",
       "      <td>No</td>\n",
       "      <td>266746</td>\n",
       "    </tr>\n",
       "    <tr>\n",
       "      <th>3</th>\n",
       "      <td>4</td>\n",
       "      <td>966</td>\n",
       "      <td>4</td>\n",
       "      <td>2</td>\n",
       "      <td>2</td>\n",
       "      <td>1902</td>\n",
       "      <td>Suburban</td>\n",
       "      <td>Fair</td>\n",
       "      <td>Yes</td>\n",
       "      <td>244020</td>\n",
       "    </tr>\n",
       "    <tr>\n",
       "      <th>4</th>\n",
       "      <td>5</td>\n",
       "      <td>4926</td>\n",
       "      <td>1</td>\n",
       "      <td>4</td>\n",
       "      <td>2</td>\n",
       "      <td>1975</td>\n",
       "      <td>Downtown</td>\n",
       "      <td>Fair</td>\n",
       "      <td>Yes</td>\n",
       "      <td>636056</td>\n",
       "    </tr>\n",
       "    <tr>\n",
       "      <th>...</th>\n",
       "      <td>...</td>\n",
       "      <td>...</td>\n",
       "      <td>...</td>\n",
       "      <td>...</td>\n",
       "      <td>...</td>\n",
       "      <td>...</td>\n",
       "      <td>...</td>\n",
       "      <td>...</td>\n",
       "      <td>...</td>\n",
       "      <td>...</td>\n",
       "    </tr>\n",
       "    <tr>\n",
       "      <th>1995</th>\n",
       "      <td>1996</td>\n",
       "      <td>4994</td>\n",
       "      <td>5</td>\n",
       "      <td>4</td>\n",
       "      <td>3</td>\n",
       "      <td>1923</td>\n",
       "      <td>Suburban</td>\n",
       "      <td>Poor</td>\n",
       "      <td>No</td>\n",
       "      <td>295620</td>\n",
       "    </tr>\n",
       "    <tr>\n",
       "      <th>1996</th>\n",
       "      <td>1997</td>\n",
       "      <td>3046</td>\n",
       "      <td>5</td>\n",
       "      <td>2</td>\n",
       "      <td>1</td>\n",
       "      <td>2019</td>\n",
       "      <td>Suburban</td>\n",
       "      <td>Poor</td>\n",
       "      <td>Yes</td>\n",
       "      <td>580929</td>\n",
       "    </tr>\n",
       "    <tr>\n",
       "      <th>1997</th>\n",
       "      <td>1998</td>\n",
       "      <td>1062</td>\n",
       "      <td>5</td>\n",
       "      <td>1</td>\n",
       "      <td>2</td>\n",
       "      <td>1903</td>\n",
       "      <td>Rural</td>\n",
       "      <td>Poor</td>\n",
       "      <td>No</td>\n",
       "      <td>476925</td>\n",
       "    </tr>\n",
       "    <tr>\n",
       "      <th>1998</th>\n",
       "      <td>1999</td>\n",
       "      <td>4062</td>\n",
       "      <td>3</td>\n",
       "      <td>1</td>\n",
       "      <td>2</td>\n",
       "      <td>1936</td>\n",
       "      <td>Urban</td>\n",
       "      <td>Excellent</td>\n",
       "      <td>Yes</td>\n",
       "      <td>161119</td>\n",
       "    </tr>\n",
       "    <tr>\n",
       "      <th>1999</th>\n",
       "      <td>2000</td>\n",
       "      <td>2989</td>\n",
       "      <td>5</td>\n",
       "      <td>1</td>\n",
       "      <td>3</td>\n",
       "      <td>1903</td>\n",
       "      <td>Suburban</td>\n",
       "      <td>Fair</td>\n",
       "      <td>No</td>\n",
       "      <td>482525</td>\n",
       "    </tr>\n",
       "  </tbody>\n",
       "</table>\n",
       "<p>2000 rows × 10 columns</p>\n",
       "</div>"
      ],
      "text/plain": [
       "        Id  Area  Bedrooms  Bathrooms  Floors  YearBuilt  Location  Condition  \\\n",
       "0        1  1360         5          4       3       1970  Downtown  Excellent   \n",
       "1        2  4272         5          4       3       1958  Downtown  Excellent   \n",
       "2        3  3592         2          2       3       1938  Downtown       Good   \n",
       "3        4   966         4          2       2       1902  Suburban       Fair   \n",
       "4        5  4926         1          4       2       1975  Downtown       Fair   \n",
       "...    ...   ...       ...        ...     ...        ...       ...        ...   \n",
       "1995  1996  4994         5          4       3       1923  Suburban       Poor   \n",
       "1996  1997  3046         5          2       1       2019  Suburban       Poor   \n",
       "1997  1998  1062         5          1       2       1903     Rural       Poor   \n",
       "1998  1999  4062         3          1       2       1936     Urban  Excellent   \n",
       "1999  2000  2989         5          1       3       1903  Suburban       Fair   \n",
       "\n",
       "     Garage   Price  \n",
       "0        No  149919  \n",
       "1        No  424998  \n",
       "2        No  266746  \n",
       "3       Yes  244020  \n",
       "4       Yes  636056  \n",
       "...     ...     ...  \n",
       "1995     No  295620  \n",
       "1996    Yes  580929  \n",
       "1997     No  476925  \n",
       "1998    Yes  161119  \n",
       "1999     No  482525  \n",
       "\n",
       "[2000 rows x 10 columns]"
      ]
     },
     "execution_count": 2,
     "metadata": {},
     "output_type": "execute_result"
    }
   ],
   "source": [
    "df= pd.read_csv(\"House Price Prediction Dataset.csv\")\n",
    "df"
   ]
  },
  {
   "cell_type": "markdown",
   "id": "7bb52a1a-c225-45ae-9a25-4b37cb4b2bd3",
   "metadata": {},
   "source": [
    "**BUSINESS PROBLEM**\n",
    "\n",
    "- \"The real estate company wants to segment the housing market to better understand different types of            properties in the dataset.\n",
    "- By grouping houses with similar characteristics together using clustering, the company can create market       profiles (e.g., budget-friendly homes, mid-range family houses, high-end luxury properties).\n",
    "- These insights will help in marketing strategies, investment planning, and tailored customer offerings.\""
   ]
  },
  {
   "cell_type": "code",
   "execution_count": 3,
   "id": "18b86cb5-ada6-4f24-a0f1-31c0c041ef7a",
   "metadata": {},
   "outputs": [
    {
     "name": "stdout",
     "output_type": "stream",
     "text": [
      "<class 'pandas.core.frame.DataFrame'>\n",
      "RangeIndex: 2000 entries, 0 to 1999\n",
      "Data columns (total 10 columns):\n",
      " #   Column     Non-Null Count  Dtype \n",
      "---  ------     --------------  ----- \n",
      " 0   Id         2000 non-null   int64 \n",
      " 1   Area       2000 non-null   int64 \n",
      " 2   Bedrooms   2000 non-null   int64 \n",
      " 3   Bathrooms  2000 non-null   int64 \n",
      " 4   Floors     2000 non-null   int64 \n",
      " 5   YearBuilt  2000 non-null   int64 \n",
      " 6   Location   2000 non-null   object\n",
      " 7   Condition  2000 non-null   object\n",
      " 8   Garage     2000 non-null   object\n",
      " 9   Price      2000 non-null   int64 \n",
      "dtypes: int64(7), object(3)\n",
      "memory usage: 156.4+ KB\n"
     ]
    }
   ],
   "source": [
    "df.info()"
   ]
  },
  {
   "cell_type": "code",
   "execution_count": 4,
   "id": "db4a98a5-230a-4065-b108-dc60ad9f13b6",
   "metadata": {},
   "outputs": [
    {
     "data": {
      "text/plain": [
       "(2000, 10)"
      ]
     },
     "execution_count": 4,
     "metadata": {},
     "output_type": "execute_result"
    }
   ],
   "source": [
    "df.shape #check shape"
   ]
  },
  {
   "cell_type": "markdown",
   "id": "658d5256-95c4-45dc-817e-fca322b77bea",
   "metadata": {},
   "source": [
    "# Data Preprocessing"
   ]
  },
  {
   "cell_type": "code",
   "execution_count": 5,
   "id": "99914d8f-05a5-4d41-975d-307073ba79e9",
   "metadata": {},
   "outputs": [],
   "source": [
    "# drop unnessary column \n",
    "df=df.drop(columns=[\"Id\",\"Price\"],axis=1)  "
   ]
  },
  {
   "cell_type": "markdown",
   "id": "229cb3d7-631f-464c-ae72-0cbddeaa3da1",
   "metadata": {},
   "source": [
    "**encoding categorical column**"
   ]
  },
  {
   "cell_type": "code",
   "execution_count": 6,
   "id": "dbdc9165-c346-4a65-8eb6-e301ac6fe6be",
   "metadata": {},
   "outputs": [
    {
     "data": {
      "text/plain": [
       "array(['No', 'Yes'], dtype=object)"
      ]
     },
     "execution_count": 6,
     "metadata": {},
     "output_type": "execute_result"
    }
   ],
   "source": [
    "df[\"Garage\"].unique()"
   ]
  },
  {
   "cell_type": "code",
   "execution_count": 7,
   "id": "a9ac0e56-ca91-4540-a435-999d04151161",
   "metadata": {},
   "outputs": [],
   "source": [
    "df['Garage'] = df['Garage'].map({'Yes': 1, 'No': 0})  #encode the garege data yes=1 and No =2"
   ]
  },
  {
   "cell_type": "code",
   "execution_count": 8,
   "id": "ece2fe19-952a-4159-847d-2127c676c17a",
   "metadata": {},
   "outputs": [
    {
     "data": {
      "text/plain": [
       "array(['Excellent', 'Good', 'Fair', 'Poor'], dtype=object)"
      ]
     },
     "execution_count": 8,
     "metadata": {},
     "output_type": "execute_result"
    }
   ],
   "source": [
    "df[\"Condition\"].unique()"
   ]
  },
  {
   "cell_type": "code",
   "execution_count": 9,
   "id": "1dced797-c524-423a-812e-ffaa2d51b77a",
   "metadata": {},
   "outputs": [],
   "source": [
    "condition_map = {\n",
    "    'Poor': 0,\n",
    "    'Fair': 1,\n",
    "    'Good': 2,\n",
    "    'Excellent': 3\n",
    "}\n",
    "df['Condition'] = df['Condition'].map(condition_map)\n"
   ]
  },
  {
   "cell_type": "code",
   "execution_count": 10,
   "id": "9dcb04a2-fdf3-4060-94ef-3cb3f3069e67",
   "metadata": {},
   "outputs": [
    {
     "data": {
      "text/plain": [
       "array(['Downtown', 'Suburban', 'Urban', 'Rural'], dtype=object)"
      ]
     },
     "execution_count": 10,
     "metadata": {},
     "output_type": "execute_result"
    }
   ],
   "source": [
    "df[\"Location\"].unique()  "
   ]
  },
  {
   "cell_type": "code",
   "execution_count": 11,
   "id": "2361bf4f-077e-4e66-95a4-a5e4950f1bbf",
   "metadata": {},
   "outputs": [],
   "source": [
    "location_map = {\n",
    "    'Downtown':1,\n",
    "    'Suburban':2,\n",
    "       'Urban':3,\n",
    "       'Rural':4\n",
    "}\n",
    "df[\"Loacation\"]= df[\"Location\"].map(location_map)"
   ]
  },
  {
   "cell_type": "code",
   "execution_count": 12,
   "id": "05d17780-f160-48b2-b044-5c76f48e9c5b",
   "metadata": {},
   "outputs": [],
   "source": [
    "# get dummy variable\n",
    "df = pd.get_dummies(df, columns=['Location'], drop_first=True)"
   ]
  },
  {
   "cell_type": "code",
   "execution_count": 13,
   "id": "ee77005f-dda0-4d68-a497-db417d3ca27a",
   "metadata": {},
   "outputs": [],
   "source": [
    "# drop the older location column\n",
    "df = df.drop(['Loacation'], axis=1)"
   ]
  },
  {
   "cell_type": "code",
   "execution_count": 14,
   "id": "6d382dca-f451-4538-a0b1-45b1a1bee391",
   "metadata": {
    "scrolled": true
   },
   "outputs": [
    {
     "data": {
      "text/plain": [
       "Area                 0\n",
       "Bedrooms             0\n",
       "Bathrooms            0\n",
       "Floors               0\n",
       "YearBuilt            0\n",
       "Condition            0\n",
       "Garage               0\n",
       "Location_Rural       0\n",
       "Location_Suburban    0\n",
       "Location_Urban       0\n",
       "dtype: int64"
      ]
     },
     "execution_count": 14,
     "metadata": {},
     "output_type": "execute_result"
    }
   ],
   "source": [
    "# check null value \n",
    "df.isnull().sum()"
   ]
  },
  {
   "cell_type": "code",
   "execution_count": 15,
   "id": "3d2353ac-e91a-4e13-a25a-d4a2982f2637",
   "metadata": {},
   "outputs": [],
   "source": [
    "# Convert all boolean columns to 0 and 1\n",
    "# Because clustering (like KMeans) works with numbers only, not True/False values\n",
    "df['Location_Rural'] = df['Location_Rural'].astype(int)\n",
    "df['Location_Suburban'] = df['Location_Suburban'].astype(int)\n",
    "df['Location_Urban'] = df['Location_Urban'].astype(int)\n"
   ]
  },
  {
   "cell_type": "code",
   "execution_count": 16,
   "id": "44e29dc5-e2e0-4062-9ec2-15aeaf4a8f6f",
   "metadata": {
    "scrolled": true
   },
   "outputs": [
    {
     "data": {
      "text/html": [
       "<div>\n",
       "<style scoped>\n",
       "    .dataframe tbody tr th:only-of-type {\n",
       "        vertical-align: middle;\n",
       "    }\n",
       "\n",
       "    .dataframe tbody tr th {\n",
       "        vertical-align: top;\n",
       "    }\n",
       "\n",
       "    .dataframe thead th {\n",
       "        text-align: right;\n",
       "    }\n",
       "</style>\n",
       "<table border=\"1\" class=\"dataframe\">\n",
       "  <thead>\n",
       "    <tr style=\"text-align: right;\">\n",
       "      <th></th>\n",
       "      <th>Area</th>\n",
       "      <th>Bedrooms</th>\n",
       "      <th>Bathrooms</th>\n",
       "      <th>Floors</th>\n",
       "      <th>YearBuilt</th>\n",
       "      <th>Condition</th>\n",
       "      <th>Garage</th>\n",
       "      <th>Location_Rural</th>\n",
       "      <th>Location_Suburban</th>\n",
       "      <th>Location_Urban</th>\n",
       "    </tr>\n",
       "  </thead>\n",
       "  <tbody>\n",
       "    <tr>\n",
       "      <th>0</th>\n",
       "      <td>1360</td>\n",
       "      <td>5</td>\n",
       "      <td>4</td>\n",
       "      <td>3</td>\n",
       "      <td>1970</td>\n",
       "      <td>3</td>\n",
       "      <td>0</td>\n",
       "      <td>0</td>\n",
       "      <td>0</td>\n",
       "      <td>0</td>\n",
       "    </tr>\n",
       "    <tr>\n",
       "      <th>1</th>\n",
       "      <td>4272</td>\n",
       "      <td>5</td>\n",
       "      <td>4</td>\n",
       "      <td>3</td>\n",
       "      <td>1958</td>\n",
       "      <td>3</td>\n",
       "      <td>0</td>\n",
       "      <td>0</td>\n",
       "      <td>0</td>\n",
       "      <td>0</td>\n",
       "    </tr>\n",
       "    <tr>\n",
       "      <th>2</th>\n",
       "      <td>3592</td>\n",
       "      <td>2</td>\n",
       "      <td>2</td>\n",
       "      <td>3</td>\n",
       "      <td>1938</td>\n",
       "      <td>2</td>\n",
       "      <td>0</td>\n",
       "      <td>0</td>\n",
       "      <td>0</td>\n",
       "      <td>0</td>\n",
       "    </tr>\n",
       "    <tr>\n",
       "      <th>3</th>\n",
       "      <td>966</td>\n",
       "      <td>4</td>\n",
       "      <td>2</td>\n",
       "      <td>2</td>\n",
       "      <td>1902</td>\n",
       "      <td>1</td>\n",
       "      <td>1</td>\n",
       "      <td>0</td>\n",
       "      <td>1</td>\n",
       "      <td>0</td>\n",
       "    </tr>\n",
       "    <tr>\n",
       "      <th>4</th>\n",
       "      <td>4926</td>\n",
       "      <td>1</td>\n",
       "      <td>4</td>\n",
       "      <td>2</td>\n",
       "      <td>1975</td>\n",
       "      <td>1</td>\n",
       "      <td>1</td>\n",
       "      <td>0</td>\n",
       "      <td>0</td>\n",
       "      <td>0</td>\n",
       "    </tr>\n",
       "    <tr>\n",
       "      <th>...</th>\n",
       "      <td>...</td>\n",
       "      <td>...</td>\n",
       "      <td>...</td>\n",
       "      <td>...</td>\n",
       "      <td>...</td>\n",
       "      <td>...</td>\n",
       "      <td>...</td>\n",
       "      <td>...</td>\n",
       "      <td>...</td>\n",
       "      <td>...</td>\n",
       "    </tr>\n",
       "    <tr>\n",
       "      <th>1995</th>\n",
       "      <td>4994</td>\n",
       "      <td>5</td>\n",
       "      <td>4</td>\n",
       "      <td>3</td>\n",
       "      <td>1923</td>\n",
       "      <td>0</td>\n",
       "      <td>0</td>\n",
       "      <td>0</td>\n",
       "      <td>1</td>\n",
       "      <td>0</td>\n",
       "    </tr>\n",
       "    <tr>\n",
       "      <th>1996</th>\n",
       "      <td>3046</td>\n",
       "      <td>5</td>\n",
       "      <td>2</td>\n",
       "      <td>1</td>\n",
       "      <td>2019</td>\n",
       "      <td>0</td>\n",
       "      <td>1</td>\n",
       "      <td>0</td>\n",
       "      <td>1</td>\n",
       "      <td>0</td>\n",
       "    </tr>\n",
       "    <tr>\n",
       "      <th>1997</th>\n",
       "      <td>1062</td>\n",
       "      <td>5</td>\n",
       "      <td>1</td>\n",
       "      <td>2</td>\n",
       "      <td>1903</td>\n",
       "      <td>0</td>\n",
       "      <td>0</td>\n",
       "      <td>1</td>\n",
       "      <td>0</td>\n",
       "      <td>0</td>\n",
       "    </tr>\n",
       "    <tr>\n",
       "      <th>1998</th>\n",
       "      <td>4062</td>\n",
       "      <td>3</td>\n",
       "      <td>1</td>\n",
       "      <td>2</td>\n",
       "      <td>1936</td>\n",
       "      <td>3</td>\n",
       "      <td>1</td>\n",
       "      <td>0</td>\n",
       "      <td>0</td>\n",
       "      <td>1</td>\n",
       "    </tr>\n",
       "    <tr>\n",
       "      <th>1999</th>\n",
       "      <td>2989</td>\n",
       "      <td>5</td>\n",
       "      <td>1</td>\n",
       "      <td>3</td>\n",
       "      <td>1903</td>\n",
       "      <td>1</td>\n",
       "      <td>0</td>\n",
       "      <td>0</td>\n",
       "      <td>1</td>\n",
       "      <td>0</td>\n",
       "    </tr>\n",
       "  </tbody>\n",
       "</table>\n",
       "<p>2000 rows × 10 columns</p>\n",
       "</div>"
      ],
      "text/plain": [
       "      Area  Bedrooms  Bathrooms  Floors  YearBuilt  Condition  Garage  \\\n",
       "0     1360         5          4       3       1970          3       0   \n",
       "1     4272         5          4       3       1958          3       0   \n",
       "2     3592         2          2       3       1938          2       0   \n",
       "3      966         4          2       2       1902          1       1   \n",
       "4     4926         1          4       2       1975          1       1   \n",
       "...    ...       ...        ...     ...        ...        ...     ...   \n",
       "1995  4994         5          4       3       1923          0       0   \n",
       "1996  3046         5          2       1       2019          0       1   \n",
       "1997  1062         5          1       2       1903          0       0   \n",
       "1998  4062         3          1       2       1936          3       1   \n",
       "1999  2989         5          1       3       1903          1       0   \n",
       "\n",
       "      Location_Rural  Location_Suburban  Location_Urban  \n",
       "0                  0                  0               0  \n",
       "1                  0                  0               0  \n",
       "2                  0                  0               0  \n",
       "3                  0                  1               0  \n",
       "4                  0                  0               0  \n",
       "...              ...                ...             ...  \n",
       "1995               0                  1               0  \n",
       "1996               0                  1               0  \n",
       "1997               1                  0               0  \n",
       "1998               0                  0               1  \n",
       "1999               0                  1               0  \n",
       "\n",
       "[2000 rows x 10 columns]"
      ]
     },
     "execution_count": 16,
     "metadata": {},
     "output_type": "execute_result"
    }
   ],
   "source": [
    "df"
   ]
  },
  {
   "cell_type": "markdown",
   "id": "d0b8ca12-bf45-4bfd-b7f7-3a393be93331",
   "metadata": {},
   "source": [
    "# feature selection"
   ]
  },
  {
   "cell_type": "code",
   "execution_count": 17,
   "id": "3f54f4f0-2afb-4170-a6ab-6c27f26c0f85",
   "metadata": {},
   "outputs": [],
   "source": [
    "from sklearn.preprocessing import StandardScaler\n",
    "\n",
    "features = ['Area', 'Bedrooms', 'Bathrooms', 'Floors', 'YearBuilt', 'Condition', 'Garage', \n",
    "            'Location_Rural', 'Location_Suburban', 'Location_Urban']\n",
    "\n",
    "scaler = StandardScaler()\n",
    "scaled_data = scaler.fit_transform(df[features])\n"
   ]
  },
  {
   "cell_type": "markdown",
   "id": "08e7ea0d-86fa-459d-85b8-71fc01b12fdf",
   "metadata": {},
   "source": [
    "# Find k value (using elbow method)"
   ]
  },
  {
   "cell_type": "code",
   "execution_count": 18,
   "id": "0a40cb09-6403-4b76-922b-273d9b1f3cbb",
   "metadata": {},
   "outputs": [],
   "source": [
    "from sklearn.cluster import KMeans\n",
    "wcss = []  # WCSS = Within-Cluster Sum of Squares\n",
    "\n",
    "# Try K from 1 to 10\n",
    "for i in range(1, 11):\n",
    "    kmeans = KMeans(n_clusters=i, init='k-means++', random_state=42)\n",
    "    kmeans.fit(scaled_data)\n",
    "    wcss.append(kmeans.inertia_)"
   ]
  },
  {
   "cell_type": "code",
   "execution_count": 19,
   "id": "f8791f5c-a98f-4ce2-828a-c04625a205bc",
   "metadata": {},
   "outputs": [
    {
     "data": {
      "image/png": "[encoded data removed]",
      "text/plain": [
       "<Figure size 800x500 with 1 Axes>"
      ]
     },
     "metadata": {},
     "output_type": "display_data"
    }
   ],
   "source": [
    "# Plot the Elbow Graph\n",
    "plt.figure(figsize=(8, 5))\n",
    "plt.plot(range(1, 11), wcss, marker='o', color='purple')\n",
    "plt.title('Elbow Method')\n",
    "plt.xlabel('Number of Clusters (K)')\n",
    "plt.ylabel('WCSS')\n",
    "plt.grid(True)\n",
    "plt.show()"
   ]
  },
  {
   "cell_type": "markdown",
   "id": "f71ef5ac-a317-4632-a33f-3f23783943a6",
   "metadata": {},
   "source": [
    "# K-means clustring"
   ]
  },
  {
   "cell_type": "code",
   "execution_count": 20,
   "id": "5075d7f9-8684-4e7f-99d7-4a29be245f96",
   "metadata": {},
   "outputs": [],
   "source": [
    "# Let's say elbow se best K = 3\n",
    "kmeans = KMeans(n_clusters=3, init='k-means++', random_state=42)\n",
    "clusters = kmeans.fit_predict(scaled_data)\n",
    "\n",
    "# Add cluster to original data\n",
    "df['Cluster'] = clusters"
   ]
  },
  {
   "cell_type": "markdown",
   "id": "4a437cda-0c93-4eb4-9142-4660cee08f32",
   "metadata": {},
   "source": [
    "# PCA vishualization"
   ]
  },
  {
   "cell_type": "code",
   "execution_count": 21,
   "id": "0c722c55-d484-4113-9a53-51bf7433ea4d",
   "metadata": {},
   "outputs": [
    {
     "data": {
      "image/png": "[encoded data removed]",
      "text/plain": [
       "<Figure size 1000x600 with 1 Axes>"
      ]
     },
     "metadata": {},
     "output_type": "display_data"
    }
   ],
   "source": [
    "# PCA(principal component analysis) for 2D visualization\n",
    "from sklearn.decomposition import PCA\n",
    "\n",
    "pca = PCA(n_components=2) # reduce the dataset 10 dimention to 2 dimention\n",
    "\n",
    "#fit :Learns the directions of maximum variance (principal components).\n",
    "#transform :Projects  high-dimensional data (10 features) onto the top 2 directions (PCA1, PCA2).\n",
    "pca_data = pca.fit_transform(scaled_data)\n",
    "df['PCA1'] = pca_data[:, 0] # first principal component (X-axis in plot)\n",
    "df['PCA2'] = pca_data[:, 1] # second principal component (Y-axis in plot)\n",
    "\n",
    "plt.figure(figsize=(10, 6)) #size of figure\n",
    "sns.scatterplot(data=df, x='PCA1', y='PCA2', hue='Cluster', palette='Set2') #sctterplot\n",
    "plt.title(\"Cluster Visualization with PCA\") #title\n",
    "plt.show()\n"
   ]
  },
  {
   "cell_type": "markdown",
   "id": "4c6d25d2-dba1-41cb-a7c9-afff2bc79b93",
   "metadata": {},
   "source": [
    "**observations (1) :-**\n",
    "\n",
    "**Why use pca here**\n",
    "\n",
    "- Your dataset has 10 features (columns) after scaling.\n",
    "\n",
    "- That’s hard to visualize in 10D space.\n",
    "\n",
    "- PCA helps reduce these 10 dimensions to just 2, while keeping as much important information (variance) as possible.\n"
   ]
  },
  {
   "cell_type": "markdown",
   "id": "e9f833f4-2e9c-44d3-a263-7118613d5b1b",
   "metadata": {},
   "source": [
    "**obervation(2)**\n",
    "\n",
    "- Cluster 0:- may represent **affordable suburban homes.**\n",
    "\n",
    "- Cluster 1:- might consist of **modern urban apartments.**\n",
    "\n",
    "- Cluster 2:- could group **luxury downtown villas.**"
   ]
  },
  {
   "cell_type": "code",
   "execution_count": 22,
   "id": "9ace8a54-3670-4afb-a331-7ac2f1f9790d",
   "metadata": {},
   "outputs": [
    {
     "data": {
      "text/html": [
       "<div>\n",
       "<style scoped>\n",
       "    .dataframe tbody tr th:only-of-type {\n",
       "        vertical-align: middle;\n",
       "    }\n",
       "\n",
       "    .dataframe tbody tr th {\n",
       "        vertical-align: top;\n",
       "    }\n",
       "\n",
       "    .dataframe thead th {\n",
       "        text-align: right;\n",
       "    }\n",
       "</style>\n",
       "<table border=\"1\" class=\"dataframe\">\n",
       "  <thead>\n",
       "    <tr style=\"text-align: right;\">\n",
       "      <th></th>\n",
       "      <th>Area</th>\n",
       "      <th>Bedrooms</th>\n",
       "      <th>Bathrooms</th>\n",
       "      <th>Floors</th>\n",
       "      <th>YearBuilt</th>\n",
       "      <th>Condition</th>\n",
       "      <th>Garage</th>\n",
       "      <th>Location_Rural</th>\n",
       "      <th>Location_Suburban</th>\n",
       "      <th>Location_Urban</th>\n",
       "      <th>PCA1</th>\n",
       "      <th>PCA2</th>\n",
       "    </tr>\n",
       "    <tr>\n",
       "      <th>Cluster</th>\n",
       "      <th></th>\n",
       "      <th></th>\n",
       "      <th></th>\n",
       "      <th></th>\n",
       "      <th></th>\n",
       "      <th></th>\n",
       "      <th></th>\n",
       "      <th></th>\n",
       "      <th></th>\n",
       "      <th></th>\n",
       "      <th></th>\n",
       "      <th></th>\n",
       "    </tr>\n",
       "  </thead>\n",
       "  <tbody>\n",
       "    <tr>\n",
       "      <th>0</th>\n",
       "      <td>2794.020704</td>\n",
       "      <td>2.977226</td>\n",
       "      <td>2.550725</td>\n",
       "      <td>1.979296</td>\n",
       "      <td>1961.151139</td>\n",
       "      <td>1.480331</td>\n",
       "      <td>0.505176</td>\n",
       "      <td>0.000000</td>\n",
       "      <td>1.0</td>\n",
       "      <td>0.0</td>\n",
       "      <td>-1.183764</td>\n",
       "      <td>-1.484362</td>\n",
       "    </tr>\n",
       "    <tr>\n",
       "      <th>1</th>\n",
       "      <td>2786.232990</td>\n",
       "      <td>3.068041</td>\n",
       "      <td>2.538144</td>\n",
       "      <td>2.014433</td>\n",
       "      <td>1959.550515</td>\n",
       "      <td>1.445361</td>\n",
       "      <td>0.472165</td>\n",
       "      <td>0.000000</td>\n",
       "      <td>0.0</td>\n",
       "      <td>1.0</td>\n",
       "      <td>1.860962</td>\n",
       "      <td>-0.266242</td>\n",
       "    </tr>\n",
       "    <tr>\n",
       "      <th>2</th>\n",
       "      <td>2782.542636</td>\n",
       "      <td>2.985465</td>\n",
       "      <td>2.560078</td>\n",
       "      <td>1.990310</td>\n",
       "      <td>1962.474806</td>\n",
       "      <td>1.511628</td>\n",
       "      <td>0.473837</td>\n",
       "      <td>0.459302</td>\n",
       "      <td>0.0</td>\n",
       "      <td>0.0</td>\n",
       "      <td>-0.320551</td>\n",
       "      <td>0.819840</td>\n",
       "    </tr>\n",
       "  </tbody>\n",
       "</table>\n",
       "</div>"
      ],
      "text/plain": [
       "                Area  Bedrooms  Bathrooms    Floors    YearBuilt  Condition  \\\n",
       "Cluster                                                                       \n",
       "0        2794.020704  2.977226   2.550725  1.979296  1961.151139   1.480331   \n",
       "1        2786.232990  3.068041   2.538144  2.014433  1959.550515   1.445361   \n",
       "2        2782.542636  2.985465   2.560078  1.990310  1962.474806   1.511628   \n",
       "\n",
       "           Garage  Location_Rural  Location_Suburban  Location_Urban  \\\n",
       "Cluster                                                                \n",
       "0        0.505176        0.000000                1.0             0.0   \n",
       "1        0.472165        0.000000                0.0             1.0   \n",
       "2        0.473837        0.459302                0.0             0.0   \n",
       "\n",
       "             PCA1      PCA2  \n",
       "Cluster                      \n",
       "0       -1.183764 -1.484362  \n",
       "1        1.860962 -0.266242  \n",
       "2       -0.320551  0.819840  "
      ]
     },
     "execution_count": 22,
     "metadata": {},
     "output_type": "execute_result"
    }
   ],
   "source": [
    "df.groupby('Cluster').mean()\n"
   ]
  },
  {
   "cell_type": "markdown",
   "id": "a94deb10-5822-4285-9b70-8676f310bdad",
   "metadata": {},
   "source": [
    "**observation (2) :-**\n",
    "\n",
    "**df.groupby('Cluster').mean()**\n",
    "\n",
    "- This tells you the average values of features in each cluster – useful to describe:\n",
    "    - Budget homes\n",
    "\n",
    "    - Luxury homes\n",
    "\n",
    "    - Mid-size family homes, etc.\n"
   ]
  },
  {
   "cell_type": "code",
   "execution_count": 26,
   "id": "154f037a-0ed6-45e8-bc70-4996010b6c33",
   "metadata": {},
   "outputs": [],
   "source": [
    "df.to_csv(\"Clustered_Housing_Data.csv\", index=False)"
   ]
  },
  {
   "cell_type": "code",
   "execution_count": null,
   "id": "e6a56dab-5f2f-4c0a-8ca5-da0de0c1309c",
   "metadata": {},
   "outputs": [],
   "source": []
  }
 ],
 "metadata": {
  "kernelspec": {
   "display_name": "Python 3 (ipykernel)",
   "language": "python",
   "name": "python3"
  },
  "language_info": {
   "codemirror_mode": {
    "name": "ipython",
    "version": 3
   },
   "file_extension": ".py",
   "mimetype": "text/x-python",
   "name": "python",
   "nbconvert_exporter": "python",
   "pygments_lexer": "ipython3",
   "version": "3.12.4"
  }
 },
 "nbformat": 4,
 "nbformat_minor": 5
}
